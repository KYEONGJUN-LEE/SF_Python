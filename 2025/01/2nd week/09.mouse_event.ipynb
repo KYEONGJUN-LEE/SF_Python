{
 "cells": [
  {
   "cell_type": "markdown",
   "metadata": {},
   "source": [
    "## 09. 마우스 이벤트"
   ]
  },
  {
   "cell_type": "code",
   "execution_count": 10,
   "metadata": {},
   "outputs": [],
   "source": [
    "import cv2\n",
    "img = cv2.imread(\"images/dog.jpg\")\n",
    "name = \"Mouse event\"\n",
    "cv2.namedWindow(name)\n",
    "\n",
    "def on_mouse(event,x,y,flags,_): # x,y는 마우스 좌표\n",
    "    if event == cv2.EVENT_LBUTTONDOWN:\n",
    "        copied = img.copy() # 깊은 복사 : 새로운거를 복사\n",
    "        cv2.circle(copied,(x,y),15,(255,255,255),cv2.FILLED)\n",
    "        cv2.imshow(name,copied)\n",
    "cv2.setMouseCallback(name,on_mouse)\n",
    "\n",
    "cv2.imshow(name,img) # 원을 그리는 Frame\n",
    "cv2.waitKey(0)\n",
    "cv2.destroyAllWindows()"
   ]
  }
 ],
 "metadata": {
  "kernelspec": {
   "display_name": "opencv-project",
   "language": "python",
   "name": "python3"
  },
  "language_info": {
   "codemirror_mode": {
    "name": "ipython",
    "version": 3
   },
   "file_extension": ".py",
   "mimetype": "text/x-python",
   "name": "python",
   "nbconvert_exporter": "python",
   "pygments_lexer": "ipython3",
   "version": "3.13.0"
  }
 },
 "nbformat": 4,
 "nbformat_minor": 2
}
