{
 "cells": [
  {
   "cell_type": "markdown",
   "metadata": {},
   "source": [
    "## 15. Tesseract - OCR"
   ]
  },
  {
   "cell_type": "code",
   "execution_count": 18,
   "metadata": {},
   "outputs": [
    {
     "name": "stdout",
     "output_type": "stream",
     "text": [
      "\n",
      "\n"
     ]
    }
   ],
   "source": [
    "from pytesseract import pytesseract as pyt\n",
    "import cv2\n",
    "pyt.tesseract_cmd =  r\"C:\\Program Files\\Tesseract-OCR\\tesseract.exe\"\n",
    "\n",
    "\n",
    "img = cv2.imread(\"images/stop.png\",cv2.IMREAD_GRAYSCALE)\n",
    "ret, binary = cv2.threshold(img,-1,255,cv2.THRESH_BINARY | cv2.THRESH_OTSU)\n",
    "\n",
    "\n",
    "text1 = pyt.image_to_string(img,lang=\"kor+eng\")\n",
    "text2= pyt.image_to_string(binary,lang=\"kor+eng\")\n",
    "print(text1)\n",
    "print(text2)"
   ]
  },
  {
   "cell_type": "code",
   "execution_count": 48,
   "metadata": {},
   "outputs": [
    {
     "name": "stdout",
     "output_type": "stream",
     "text": [
      "정지\n",
      "STOP\n",
      "\n"
     ]
    }
   ],
   "source": [
    "from pytesseract import pytesseract as pyt\n",
    "import cv2\n",
    "\n",
    "pyt.tesseract_cmd = r\"C:\\Program Files\\Tesseract-OCR\\tesseract.exe\"\n",
    "\n",
    "img = cv2.imread(\"images/stop.png\", cv2.IMREAD_GRAYSCALE)\n",
    "\n",
    "# (x,y)  =  시작 좌표, (w,h) = (가로,세로)\n",
    "x, y, w, h = 30, 30, 270, 270\n",
    "\n",
    "cropped_img = img[y:y+h, x:x+w]\n",
    "\n",
    "extracted_text = pyt.image_to_string(cropped_img, lang=\"kor+eng\")\n",
    "print(extracted_text)\n",
    "cv2.imshow(\"Cropped Image\",cropped_img)\n",
    "cv2.waitKey(0)\n",
    "cv2.destroyAllWindows()\n",
    "\n"
   ]
  },
  {
   "cell_type": "code",
   "execution_count": 56,
   "metadata": {},
   "outputs": [
    {
     "name": "stdout",
     "output_type": "stream",
     "text": [
      "STOP.\n",
      "\n"
     ]
    }
   ],
   "source": [
    "import cv2\n",
    "import numpy as np\n",
    "from pytesseract import pytesseract as pyt\n",
    "\n",
    "img = cv2.imread(\"images/stop.png\")\n",
    "point_list = []\n",
    "pyt.tesseract_cmd = r\"C:\\Program Files\\Tesseract-OCR\\tesseract.exe\"\n",
    "\n",
    "# 최종 결과를 출력하는 함수입니다\n",
    "def show_result():\n",
    "  width, height = 300, 300\n",
    "  src = np.array(point_list, dtype=np.float32)\n",
    "  target = np.array([[0,0], [width, 0], [width, height], [0, height]], dtype=np.float32)\n",
    "  mat = cv2.getPerspectiveTransform(src, target)\n",
    "  result = cv2.warpPerspective(img, mat, (width, height))\n",
    "  \n",
    "  gray = cv2.cvtColor(result, cv2.COLOR_BGR2GRAY)\n",
    "  _, binary = cv2.threshold(gray, -1, 255, cv2.THRESH_BINARY | cv2.THRESH_OTSU)\n",
    "  text = pyt.image_to_string(binary, lang=\"kor+eng\")\n",
    "  print(text)\n",
    "  \n",
    "  cv2.imshow(\"result\", result)\n",
    "\n",
    "# 마우스 이벤트와 함께 실행되는 콜백함수입니다.\n",
    "drawing = False\n",
    "def on_mouse(event, x, y, flags, _):\n",
    "  global drawing\n",
    "  coppied = img.copy()\n",
    "  if event == cv2.EVENT_LBUTTONDOWN:\n",
    "    drawing = True\n",
    "    point_list.append((x,y))\n",
    "\n",
    "  if drawing:\n",
    "    COLOR = (0,255,255)\n",
    "    prev_point = None\n",
    "    for point in point_list:\n",
    "      cv2.circle(coppied, point, 10, COLOR, cv2.FILLED)\n",
    "      if prev_point:\n",
    "        cv2.line(coppied, prev_point, point, COLOR, 5)\n",
    "      prev_point = point\n",
    "\n",
    "    next_point = (x,y)\n",
    "    if len(point_list) == 4:\n",
    "      next_point = point_list[0]\n",
    "      show_result()\n",
    "      drawing = False\n",
    "    cv2.line(coppied, point_list[-1], next_point, COLOR, 5)\n",
    "\n",
    "  cv2.imshow(name, coppied)\n",
    "\n",
    "# 기본적인 코드 실행입니다.\n",
    "name = \"Scanner\"\n",
    "cv2.namedWindow(name)\n",
    "cv2.setMouseCallback(name, on_mouse)\n",
    "cv2.imshow(name, img)\n",
    "cv2.waitKey(0)\n",
    "cv2.destroyAllWindows()"
   ]
  }
 ],
 "metadata": {
  "kernelspec": {
   "display_name": "yolo",
   "language": "python",
   "name": "python3"
  },
  "language_info": {
   "codemirror_mode": {
    "name": "ipython",
    "version": 3
   },
   "file_extension": ".py",
   "mimetype": "text/x-python",
   "name": "python",
   "nbconvert_exporter": "python",
   "pygments_lexer": "ipython3",
   "version": "3.12.8"
  }
 },
 "nbformat": 4,
 "nbformat_minor": 2
}
