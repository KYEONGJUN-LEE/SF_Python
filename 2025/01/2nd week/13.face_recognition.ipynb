{
 "cells": [
  {
   "cell_type": "markdown",
   "metadata": {},
   "source": [
    "## 13. 얼굴 인식"
   ]
  },
  {
   "cell_type": "code",
   "execution_count": 4,
   "metadata": {},
   "outputs": [],
   "source": [
    "import cv2\n",
    "\n",
    "SONNY = \"images/SON.png\"\n",
    "FAMILY = \"images/family.jpg\"\n",
    "MOIVE = \"images/face_detection.mp4\""
   ]
  },
  {
   "cell_type": "markdown",
   "metadata": {},
   "source": [
    "## 단체사진에서의 얼굴 찾기"
   ]
  },
  {
   "cell_type": "code",
   "execution_count": 5,
   "metadata": {},
   "outputs": [
    {
     "name": "stdout",
     "output_type": "stream",
     "text": [
      "[[424 127  79  79]\n",
      " [620 245 111 111]\n",
      " [421 262 105 105]\n",
      " [563 393  99  99]]\n"
     ]
    }
   ],
   "source": [
    "import cv2\n",
    "\n",
    "face_cascade = cv2.CascadeClassifier(\"cascade/haarcascade_frontalface_default.xml\")\n",
    "\n",
    "img = cv2.imread(FAMILY)\n",
    "\n",
    "if img is None:\n",
    "    print(\"이미지를 읽을 수 없습니다. 경로를 확인하세요.\")\n",
    "    exit()\n",
    "\n",
    "gray = cv2.cvtColor(img, cv2.COLOR_BGR2GRAY)\n",
    "\n",
    "\n",
    "faces = face_cascade.detectMultiScale(\n",
    "    gray, scaleFactor=1.1, minNeighbors=10, minSize=(20, 20)\n",
    ")\n",
    "\n",
    "print(faces)\n",
    "for face in faces:\n",
    "    x,y,width,height = face\n",
    "    cv2.rectangle(img, (x, y), (x + width, y + height), (255, 0, 0), 2)\n",
    "\n",
    "# 결과 이미지 표시\n",
    "cv2.imshow(\"Detected Faces\", img)\n",
    "cv2.waitKey(0)\n",
    "cv2.destroyAllWindows()\n"
   ]
  },
  {
   "cell_type": "markdown",
   "metadata": {},
   "source": [
    "## 눈과 얼굴 찾기"
   ]
  },
  {
   "cell_type": "code",
   "execution_count": 6,
   "metadata": {},
   "outputs": [
    {
     "name": "stdout",
     "output_type": "stream",
     "text": [
      "[[218  85 118 118]]\n"
     ]
    }
   ],
   "source": [
    "import cv2\n",
    "\n",
    "face_cascade = cv2.CascadeClassifier(\"cascade/haarcascade_frontalface_default.xml\")\n",
    "eye_cascade = cv2.CascadeClassifier(\"cascade/haarcascade_eye.xml\")\n",
    "\n",
    "img = cv2.imread(SONNY)\n",
    "\n",
    "if img is None:\n",
    "    print(\"이미지를 읽을 수 없습니다. 경로를 확인하세요.\")\n",
    "    exit()\n",
    "\n",
    "gray = cv2.cvtColor(img, cv2.COLOR_BGR2GRAY)\n",
    "\n",
    "\n",
    "faces = face_cascade.detectMultiScale(\n",
    "    gray, scaleFactor=1.1, minNeighbors=5, minSize=(20, 20)\n",
    ")\n",
    "eyes = eye_cascade.detectMultiScale(\n",
    "    gray, scaleFactor=1.1, minNeighbors=10, minSize=(20, 20)\n",
    ")\n",
    "\n",
    "if len(faces):\n",
    "    for face in faces:\n",
    "        x,y,width,height = face\n",
    "        cv2.rectangle(img, (x, y), (x + width, y + height), (255, 0, 0), 2)\n",
    "\n",
    "print(faces)\n",
    "if len(eyes):\n",
    "    for eye in eyes:\n",
    "        x,y,width,height = eye\n",
    "        cv2.rectangle(img, (x, y), (x + width, y + height), (0, 0, 255), 2)\n",
    "\n",
    "# 결과 이미지 표시\n",
    "cv2.imshow(\"Detected Faces\", img)\n",
    "cv2.waitKey(0)\n",
    "cv2.destroyAllWindows()\n"
   ]
  },
  {
   "cell_type": "markdown",
   "metadata": {},
   "source": [
    "## 영상속에서의 얼굴 인식"
   ]
  },
  {
   "cell_type": "code",
   "execution_count": 1,
   "metadata": {},
   "outputs": [],
   "source": [
    "import cv2\n",
    "\n",
    "face_cascade = cv2.CascadeClassifier(\"cascade/haarcascade_frontalface_default.xml\")\n",
    "eye_cascade = cv2.CascadeClassifier(\"cascade/haarcascade_eye.xml\")\n",
    "\n",
    "VIDEO_PATH = \"images/face_detection.mp4\"  # 동영상 파일 경로\n",
    "cap = cv2.VideoCapture(VIDEO_PATH)\n",
    "\n",
    "if not cap.isOpened():\n",
    "    exit()\n",
    "\n",
    "resize_scale = 0.8\n",
    "\n",
    "while True:\n",
    "    ret, frame = cap.read()\n",
    "    if not ret:\n",
    "        break\n",
    "\n",
    "    frame = cv2.resize(frame, (0, 0), fx=resize_scale, fy=resize_scale)\n",
    "\n",
    "    gray = cv2.cvtColor(frame, cv2.COLOR_BGR2GRAY)\n",
    "\n",
    "    faces = face_cascade.detectMultiScale(\n",
    "        gray, scaleFactor=1.1, minNeighbors=7, minSize=(20, 20)\n",
    "    )\n",
    "    eyes = eye_cascade.detectMultiScale(\n",
    "        gray, scaleFactor=1.1, minNeighbors=20, minSize=(20, 20)\n",
    "    )\n",
    "    if len(faces):\n",
    "        for (x, y, width, height) in faces:\n",
    "            cv2.rectangle(frame, (x, y), (x + width, y + height), (255, 0, 0), 2)\n",
    "    if len(eyes):\n",
    "        for (x, y, width, height) in eyes:\n",
    "            cv2.rectangle(frame, (x, y), (x + width, y + height), (0, 0, 255), 2)\n",
    "            \n",
    "    cv2.imshow(\"face_detection\", frame)\n",
    "\n",
    "    if cv2.waitKey(1) == ord('q'):\n",
    "        break\n",
    "\n",
    "cap.release()\n",
    "cv2.destroyAllWindows()\n"
   ]
  },
  {
   "cell_type": "markdown",
   "metadata": {},
   "source": [
    "## 실시간 영상에서의 얼굴 찾기"
   ]
  },
  {
   "cell_type": "code",
   "execution_count": 7,
   "metadata": {},
   "outputs": [],
   "source": [
    "import cv2\n",
    "\n",
    "# Haar cascade 파일 로드\n",
    "face_cascade = cv2.CascadeClassifier(\"cascade/haarcascade_frontalface_default.xml\")\n",
    "eye_cascade = cv2.CascadeClassifier(\"cascade/haarcascade_eye.xml\")\n",
    "name_face = \"face\"\n",
    "name_eye = \"eye\"\n",
    "font = cv2.FONT_HERSHEY_COMPLEX_SMALL\n",
    "font_scale = 1\n",
    "color = (255, 255, 255)\n",
    "thickness = 2\n",
    "# 웹캠 비디오 캡처\n",
    "cap = cv2.VideoCapture(0)\n",
    "\n",
    "if not cap.isOpened():\n",
    "    exit()\n",
    "\n",
    "while True:\n",
    "    # 프레임 읽기\n",
    "    ret, frame = cap.read()\n",
    "    if not ret:\n",
    "        break\n",
    "\n",
    "    # 그레이스케일로 변환\n",
    "    gray = cv2.cvtColor(frame, cv2.COLOR_BGR2GRAY)\n",
    "\n",
    "    # 얼굴 감지\n",
    "    faces = face_cascade.detectMultiScale(gray, scaleFactor=1.1, minNeighbors=5, minSize=(20, 20))\n",
    "\n",
    "    # 눈 감지\n",
    "    eyes = eye_cascade.detectMultiScale(gray, scaleFactor=1.1, minNeighbors=10, minSize=(30, 30))\n",
    "\n",
    "    # 얼굴 영역에 사각형 그리기\n",
    "    for (x, y, width, height) in faces:\n",
    "        cv2.rectangle(frame, (x, y), (x + width, y + height), (0, 0, 255), 4)\n",
    "        cv2.putText(frame, name_face, (x, y-10), font, font_scale, color, thickness)\n",
    "\n",
    "    # 눈 영역에 사각형 그리기\n",
    "    for (x, y, width, height) in eyes:\n",
    "        cv2.rectangle(frame, (x, y), (x + width, y + height), (0, 255, 255), 3)\n",
    "        cv2.putText(frame, name_eye, (x, y-10), font, font_scale, color, thickness)\n",
    "\n",
    "    # 프레임 화면에 출력\n",
    "    cv2.imshow(\"Real-Time Face and Eye Detection\", frame)\n",
    "\n",
    "    # 'q'를 누르면 종료\n",
    "    if cv2.waitKey(1) == ord('q'):\n",
    "        break\n",
    "\n",
    "# 캡처 객체와 창 닫기\n",
    "cap.release()\n",
    "cv2.destroyAllWindows()\n"
   ]
  },
  {
   "cell_type": "markdown",
   "metadata": {},
   "source": [
    "## 실습 2  사진에서 눈 찾아서 눈 사진으로 덮어 쓰기"
   ]
  },
  {
   "cell_type": "code",
   "execution_count": 35,
   "metadata": {},
   "outputs": [],
   "source": [
    "eye_cascade = cv2.CascadeClassifier(\"cascade/haarcascade_eye.xml\")\n",
    "\n",
    "img = cv2.imread(SONNY)\n",
    "\n",
    "LEFT_EYE = cv2.imread('images/left_eye.jpg')\n",
    "RIGHT_EYE = cv2.imread('images/right_eye.jpg')\n",
    "gray = cv2.cvtColor(img, cv2.COLOR_BGR2GRAY)\n",
    "\n",
    "eyes = eye_cascade.detectMultiScale(\n",
    "    gray, scaleFactor=1.1, minNeighbors=10\n",
    ")\n",
    "\n",
    "if len(eyes):\n",
    "    for i, (x, y, width, height) in enumerate(eyes):\n",
    "        if i % 2 == 0:\n",
    "            eye = cv2.resize(LEFT_EYE, (width, height))\n",
    "        else:\n",
    "            eye = cv2.resize(RIGHT_EYE, (width, height))\n",
    "        img[y:y+height, x:x+width] = eye\n",
    "\n",
    "cv2.imshow(\"img\", img)\n",
    "cv2.waitKey(0)\n",
    "cv2.destroyAllWindows()\n"
   ]
  }
 ],
 "metadata": {
  "kernelspec": {
   "display_name": "yolo",
   "language": "python",
   "name": "python3"
  },
  "language_info": {
   "codemirror_mode": {
    "name": "ipython",
    "version": 3
   },
   "file_extension": ".py",
   "mimetype": "text/x-python",
   "name": "python",
   "nbconvert_exporter": "python",
   "pygments_lexer": "ipython3",
   "version": "3.12.8"
  }
 },
 "nbformat": 4,
 "nbformat_minor": 2
}
