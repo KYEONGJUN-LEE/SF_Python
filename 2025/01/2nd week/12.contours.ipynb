{
 "cells": [
  {
   "cell_type": "markdown",
   "metadata": {},
   "source": [
    "## 12. 윤곽선 검출\n",
    "- 경게선을 연결한 선\n",
    "- 흑백 이미지 -> 이진화 -> 윤곽선 찾기(findcontours) -> 윤관선 그리기 (drawcontours)"
   ]
  },
  {
   "cell_type": "code",
   "execution_count": 2,
   "metadata": {},
   "outputs": [],
   "source": [
    "import cv2\n",
    "\n",
    "\n",
    "DOG = \"images/dog.jpg\"\n",
    "VEHICLE = \"images/vehicles.png\""
   ]
  },
  {
   "cell_type": "code",
   "execution_count": 8,
   "metadata": {},
   "outputs": [],
   "source": [
    "img = cv2.imread(DOG)\n",
    "copied = img.copy()\n",
    "copied_ext = img.copy()\n",
    "\n",
    "gray = cv2.cvtColor(copied, cv2.COLOR_BGR2GRAY)\n",
    "\n",
    "# 이진화\n",
    "ret, binary = cv2.threshold(gray, -1,255,cv2.THRESH_BINARY | cv2.THRESH_OTSU)\n",
    "\n",
    "# 윤곽선 찾기\n",
    "contours, hierachy =  cv2.findContours(binary, cv2.RETR_LIST,cv2.CHAIN_APPROX_NONE)\n",
    "contours_ext, hierachy_ext =  cv2.findContours(binary, cv2.RETR_EXTERNAL,cv2.CHAIN_APPROX_NONE)\n",
    "\n",
    "# 윤곽선 그리기\n",
    "cv2.drawContours(copied,contours,-1, (0,255,0), 2)\n",
    "cv2.drawContours(copied_ext,contours_ext,-1, (0,255,0), 2)\n",
    "\n",
    "cv2.imshow(\"img\",img)\n",
    "cv2.imshow(\"contours\",copied)\n",
    "cv2.imshow(\"contours_ext\",copied_ext)\n",
    "\n",
    "cv2.waitKey(0)\n",
    "cv2.destroyAllWindows()"
   ]
  },
  {
   "cell_type": "markdown",
   "metadata": {},
   "source": [
    "### 12-2. BoundingRect\n",
    "- 윤곽선을 둘러싼 사각형을 그리기"
   ]
  },
  {
   "cell_type": "code",
   "execution_count": 52,
   "metadata": {},
   "outputs": [],
   "source": [
    "img = cv2.imread(DOG)\n",
    "copied = img.copy()\n",
    "\n",
    "\n",
    "gray = cv2.cvtColor(copied, cv2.COLOR_BGR2GRAY)\n",
    "\n",
    "# 이진화\n",
    "ret, binary = cv2.threshold(gray, -1,255,cv2.THRESH_BINARY | cv2.THRESH_OTSU)\n",
    "\n",
    "# 윤곽선 찾기\n",
    "contours, hierachy =  cv2.findContours(binary, cv2.RETR_EXTERNAL,cv2.CHAIN_APPROX_NONE)\n",
    "\n",
    "for contour in contours:\n",
    "    x,y,width,height = cv2.boundingRect(contour)\n",
    "    cv2.rectangle(copied,(x,y),(x+width,y+height),(0,0,255),2)\n",
    "\n",
    "# 윤곽선 그리기\n",
    "# cv2.drawContours(copied,contours,-1, (0,255,0), 2)\n",
    "\n",
    "cv2.imshow(\"img\",img)\n",
    "cv2.imshow(\"contours\",copied)\n",
    "\n",
    "cv2.waitKey(0)\n",
    "cv2.destroyAllWindows()"
   ]
  },
  {
   "cell_type": "markdown",
   "metadata": {},
   "source": [
    "## 실습 3  순서대로 박스 표시\n",
    "- 인덱스 트랙바를 만들고\n",
    "- 트랙바의 인덱스 값을 변경하면\n",
    "- 생생된 박스가 순서대로 화면에 띄워지도록 구현하기"
   ]
  },
  {
   "cell_type": "code",
   "execution_count": 53,
   "metadata": {},
   "outputs": [],
   "source": [
    "img = cv2.imread(VEHICLE)\n",
    "name = \"VEHICLE\"\n",
    "copied = img.copy()\n",
    "cv2.namedWindow(name)\n",
    "# 이진화 처리\n",
    "gray = cv2.cvtColor(img, cv2.COLOR_BGR2GRAY)\n",
    "ret, binary = cv2.threshold(gray, 127, 255, cv2.THRESH_BINARY | cv2.THRESH_OTSU)\n",
    "\n",
    "# 윤곽선 찾기\n",
    "contours, hierachy = cv2.findContours(binary, cv2.RETR_EXTERNAL, cv2.CHAIN_APPROX_SIMPLE)\n",
    "cv2.createTrackbar(\"INDEX\",name,0,len(contours) - 1,lambda x:x)\n",
    "\n",
    "while True:\n",
    "    index = cv2.getTrackbarPos(\"INDEX\", name)\n",
    "\n",
    "    copied = img.copy()  \n",
    "    x, y, width, height = cv2.boundingRect(contours[index])\n",
    "    cv2.rectangle(copied, (x, y), (x + width, y + height), (0, 0, 255), 2)\n",
    "    cv2.imshow(name, copied)\n",
    "\n",
    "    if cv2.waitKey(1) == ord(\"q\"): \n",
    "        break\n",
    "\n",
    "cv2.destroyAllWindows()"
   ]
  },
  {
   "cell_type": "markdown",
   "metadata": {},
   "source": [
    "### 12-3. contourArea"
   ]
  },
  {
   "cell_type": "code",
   "execution_count": 50,
   "metadata": {},
   "outputs": [],
   "source": [
    "img = cv2.imread(VEHICLE)\n",
    "name = \"VEHICLE\"\n",
    "copied = img.copy()\n",
    "cv2.namedWindow(name)\n",
    "# 이진화 처리\n",
    "gray = cv2.cvtColor(img, cv2.COLOR_BGR2GRAY)\n",
    "ret, binary = cv2.threshold(gray, 127, 255, cv2.THRESH_BINARY | cv2.THRESH_OTSU)\n",
    "# 윤곽선 찾기\n",
    "contours, hierachy = cv2.findContours(binary, cv2.RETR_EXTERNAL, cv2.CHAIN_APPROX_SIMPLE)\n",
    "\n",
    "\n",
    "# 윤곽선의 면적이 특정 크기 이상인 윤곽선을 새로운 리스트에 저장\n",
    "MIN_AREA = 1000\n",
    "filtered_counters = []\n",
    "for contour in contours:\n",
    "    if cv2.contourArea(contour) > MIN_AREA:\n",
    "        filtered_counters.append(contour)\n",
    "\n",
    "cv2.createTrackbar(\"INDEX\",name,0,len(filtered_counters) - 1,lambda x:x)\n",
    "\n",
    "while True:\n",
    "    index = cv2.getTrackbarPos(\"INDEX\", name)\n",
    "\n",
    "    copied = img.copy()  \n",
    "    x, y, width, height = cv2.boundingRect(filtered_counters[index])\n",
    "    cv2.rectangle(copied, (x, y), (x + width, y + height), (0, 0, 255), 2)\n",
    "    cv2.imshow(name, copied)\n",
    "\n",
    "    if cv2.waitKey(1) == ord(\"q\"): \n",
    "        break\n",
    "\n",
    "cv2.destroyAllWindows()"
   ]
  },
  {
   "cell_type": "markdown",
   "metadata": {},
   "source": [
    "## 실습 4 카드 하나씩 새 창에 표시"
   ]
  },
  {
   "cell_type": "code",
   "execution_count": 42,
   "metadata": {},
   "outputs": [],
   "source": [
    "import cv2\n",
    "import numpy as np\n",
    "\n",
    "# 이미지 읽기\n",
    "img = cv2.imread(\"images/playing_cards.png\")  # 이미지 경로 수정\n",
    "cv2.imshow(\"Original Image\", img)\n",
    "\n",
    "# 이진화 처리\n",
    "gray = cv2.cvtColor(img, cv2.COLOR_BGR2GRAY)\n",
    "ret, binary = cv2.threshold(gray, 127, 255, cv2.THRESH_BINARY | cv2.THRESH_OTSU)\n",
    "\n",
    "\n",
    "contours, hierachy = cv2.findContours(binary, cv2.RETR_EXTERNAL, cv2.CHAIN_APPROX_SIMPLE)\n",
    "cv2.drawContours(img,contours,-1,(0,0,255),2)\n",
    "\n",
    "\n",
    "index = 1\n",
    "for contour in contours:\n",
    "    x, y, w, h = cv2.boundingRect(contour)\n",
    "    \n",
    "    if w > 50 and h > 100:  \n",
    "        card = img[y:y+h, x:x+w] \n",
    "        \n",
    "        cv2.imshow(f\"Card {index}\", card)\n",
    "        index += 1\n",
    "\n",
    "cv2.waitKey(0) \n",
    "cv2.destroyAllWindows()\n"
   ]
  },
  {
   "cell_type": "markdown",
   "metadata": {},
   "source": [
    "## 트랙바를 이용한 카드 선택 후 출력"
   ]
  },
  {
   "cell_type": "code",
   "execution_count": 48,
   "metadata": {},
   "outputs": [],
   "source": [
    "import cv2\n",
    "\n",
    "# 이미지 읽기\n",
    "img = cv2.imread(\"images/playing_cards.png\")  # 이미지 경로 수정\n",
    "if img is None:\n",
    "    print(\"이미지를 읽을 수 없습니다. 경로를 확인하세요.\")\n",
    "    exit()\n",
    "\n",
    "# 원본 이미지 복사본 생성 (사각형 그릴 이미지)\n",
    "original_with_boxes = img.copy()\n",
    "\n",
    "# 이진화 처리\n",
    "gray = cv2.cvtColor(img, cv2.COLOR_BGR2GRAY)\n",
    "ret, binary = cv2.threshold(gray, 127, 255, cv2.THRESH_BINARY | cv2.THRESH_OTSU)\n",
    "\n",
    "# 윤곽선 찾기\n",
    "contours, hierarchy = cv2.findContours(binary, cv2.RETR_EXTERNAL, cv2.CHAIN_APPROX_SIMPLE)\n",
    "\n",
    "# 윤곽선의 면적이 특정 크기 이상인 윤곽선을 새로운 리스트에 저장\n",
    "MIN_AREA = 1000\n",
    "filtered_contours = []\n",
    "for contour in contours:\n",
    "    if cv2.contourArea(contour) > MIN_AREA:\n",
    "        filtered_contours.append(contour)\n",
    "\n",
    "# 트랙바 이름 및 창 이름 설정\n",
    "trackbar_name = \"INDEX\"\n",
    "window_name = \"Filtered Cards\"\n",
    "\n",
    "cv2.namedWindow(window_name)\n",
    "cv2.createTrackbar(trackbar_name, window_name, 0, len(filtered_contours) - 1, lambda x: x)\n",
    "\n",
    "while True:\n",
    "    # 트랙바 값 가져오기\n",
    "    index = cv2.getTrackbarPos(trackbar_name, window_name)\n",
    "\n",
    "    # 원본 이미지 복사\n",
    "    copied = original_with_boxes.copy()\n",
    "\n",
    "    # 선택된 윤곽선에 대해 사각형 표시 및 카드 추출\n",
    "    x, y, width, height = cv2.boundingRect(filtered_contours[index])\n",
    "    cv2.rectangle(copied, (x, y), (x + width, y + height), (0, 0, 255), 2)\n",
    "\n",
    "    # 선택된 카드 영역 추출\n",
    "    selected_card = img[y:y + height, x:x + width]\n",
    "\n",
    "    # 결과 출력\n",
    "    cv2.imshow(window_name, copied)\n",
    "    cv2.imshow(\"Selected Card\", selected_card)\n",
    "\n",
    "    # 'q' 키를 누르면 종료\n",
    "    if cv2.waitKey(1) == ord(\"q\"):\n",
    "        break\n",
    "\n",
    "cv2.destroyAllWindows()\n"
   ]
  },
  {
   "cell_type": "markdown",
   "metadata": {},
   "source": [
    "## 많은 카드"
   ]
  },
  {
   "cell_type": "code",
   "execution_count": 49,
   "metadata": {},
   "outputs": [],
   "source": [
    "import cv2 as cv\n",
    "img = cv.imread(\"images/many_cards.png\")\n",
    "img = cv.resize(img, (1200, 600))\n",
    "gray = cv.cvtColor(img, cv.COLOR_BGR2GRAY)\n",
    "ret, otsu = cv.threshold(gray, -1, 255, cv.THRESH_BINARY | cv.THRESH_OTSU)\n",
    "contours, hierachy = cv.findContours(otsu, cv.RETR_EXTERNAL, cv.CHAIN_APPROX_NONE)\n",
    "filtered_contours = [] \n",
    "for contour in contours:\n",
    "    if cv.contourArea(contour) > 200:\n",
    "        filtered_contours.append(contour)\n",
    "cv.namedWindow('img')\n",
    "cv.createTrackbar('Index', 'img', 0, len(filtered_contours) - 1, lambda x: x)\n",
    "window_name = None\n",
    "previous_index = -1\n",
    "cv.imshow('img', img)\n",
    "while True:\n",
    "    index = cv.getTrackbarPos('Index', 'img')\n",
    "    copied_img = img.copy()\n",
    "    x, y, width, height = cv.boundingRect(filtered_contours[index])\n",
    "    cv.rectangle(copied_img, (x, y), (x + width, y + height),\n",
    "                 (0, 0, 255), 5, cv.LINE_AA)\n",
    "    cv.imshow('img', copied_img)\n",
    "    if index != previous_index:\n",
    "        x1, y1, width, height = cv.boundingRect(filtered_contours[index])\n",
    "        x2 = x1 + width\n",
    "        y2 = y1 + height\n",
    "        separated_img = img[y1:y2, x1:x2]\n",
    "        separated_img = cv.resize(separated_img, (150, 200))\n",
    "        window_name = \"CARD\"\n",
    "        cv.imshow(window_name, separated_img)\n",
    "        previous_index = index\n",
    "    if cv.waitKey(1) != -1:\n",
    "        break\n",
    "cv.destroyAllWindows()"
   ]
  }
 ],
 "metadata": {
  "kernelspec": {
   "display_name": "opencv-project",
   "language": "python",
   "name": "python3"
  },
  "language_info": {
   "codemirror_mode": {
    "name": "ipython",
    "version": 3
   },
   "file_extension": ".py",
   "mimetype": "text/x-python",
   "name": "python",
   "nbconvert_exporter": "python",
   "pygments_lexer": "ipython3",
   "version": "3.13.0"
  }
 },
 "nbformat": 4,
 "nbformat_minor": 2
}
