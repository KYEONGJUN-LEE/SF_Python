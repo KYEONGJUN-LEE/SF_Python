{
 "cells": [
  {
   "cell_type": "markdown",
   "metadata": {},
   "source": [
    "## 01. 이미지 입출력"
   ]
  },
  {
   "cell_type": "code",
   "execution_count": 13,
   "metadata": {},
   "outputs": [],
   "source": [
    "import cv2\n",
    "DOG_Path = \"images/dog.jpg\"\n",
    "DOG_Path2 = \"images/dog.png\""
   ]
  },
  {
   "cell_type": "markdown",
   "metadata": {},
   "source": [
    "### 1-1 이미지 입출력"
   ]
  },
  {
   "cell_type": "code",
   "execution_count": null,
   "metadata": {},
   "outputs": [],
   "source": [
    "img = cv2.imread(\"images/dog.jpg\")\n",
    "print(img)"
   ]
  },
  {
   "cell_type": "code",
   "execution_count": 6,
   "metadata": {},
   "outputs": [
    {
     "name": "stdout",
     "output_type": "stream",
     "text": [
      "65\n"
     ]
    }
   ],
   "source": [
    "cv2.imshow(\"image\",img) # 이미지 보여주는 함수\n",
    "key = cv2.waitKey(5000) # 키 입력을 기다려주는 명령어 key 변수에 아스키 코드로 가져와 진다.\n",
    "# 키 입력이 없을때는 -1 값을 반환환\n",
    "print(key) \n",
    "cv2.destroyAllWindows() # 화면 닫는 명령어"
   ]
  },
  {
   "cell_type": "markdown",
   "metadata": {},
   "source": [
    "### 1-2 이미지 불러오기 옵션\n",
    "- cv2.IMREAD_COLOR : 이미지를 컬로로, 기본 옵션\n",
    "- cv2.IMREAD_GRAYSCALE : 이미지를 흑백으로\n",
    "- cv2.IMREAD_UNCHANGED : 이미지 컬러, 투명배경 인식\n",
    "    - 이미지를 불러올 때 alpha값을 같이 불러옴."
   ]
  },
  {
   "cell_type": "code",
   "execution_count": 8,
   "metadata": {},
   "outputs": [],
   "source": [
    "img_deafult = cv2.imread(DOG_Path,cv2.IMREAD_COLOR)\n",
    "img_gray = cv2.imread(DOG_Path,cv2.IMREAD_GRAYSCALE)\n",
    "img_unchanged = cv2.imread(DOG_Path,cv2.IMREAD_UNCHANGED)\n",
    "\n",
    "cv2.imshow(\"Image Deafult\",img_deafult)\n",
    "cv2.imshow(\"Image Gray\",img_gray)\n",
    "cv2.imshow(\"Image Unchanged\",img_unchanged)\n",
    "\n",
    "cv2.waitKey(0)\n",
    "cv2.destroyAllWindows()"
   ]
  },
  {
   "cell_type": "markdown",
   "metadata": {},
   "source": [
    "### 1-3 이미지 세로, 가로 출력"
   ]
  },
  {
   "cell_type": "code",
   "execution_count": 14,
   "metadata": {},
   "outputs": [
    {
     "name": "stdout",
     "output_type": "stream",
     "text": [
      "360 360 4\n"
     ]
    }
   ],
   "source": [
    "img_deafult = cv2.imread(DOG_Path2,cv2.IMREAD_COLOR)\n",
    "img_gray = cv2.imread(DOG_Path2,cv2.IMREAD_GRAYSCALE)\n",
    "img_unchanged = cv2.imread(DOG_Path2,cv2.IMREAD_UNCHANGED)\n",
    "\n",
    "height, width, channel = img_unchanged.shape\n",
    "height, width, channel = img_deafult.shape\n",
    "print(height,width,channel)\n",
    "#img_gray는 channel이 없다. 흰색과 검은색의 존재만 있다보니 채널이 잡히지 않는다.\n",
    "\n",
    "\n",
    "# cv2.imshow(\"Image Deafult\",img_deafult)\n",
    "# cv2.imshow(\"Image Gray\",img_gray)\n",
    "# cv2.imshow(\"Image Unchanged\",img_unchanged)\n",
    "\n",
    "# cv2.waitKey(0)\n",
    "# cv2.destroyAllWindows()"
   ]
  },
  {
   "cell_type": "code",
   "execution_count": 16,
   "metadata": {},
   "outputs": [
    {
     "name": "stdout",
     "output_type": "stream",
     "text": [
      "113\n"
     ]
    }
   ],
   "source": [
    "img = cv2.imread(DOG_Path)\n",
    "cv2.imshow(\"image\",img)\n",
    "key = cv2.waitKey(0)\n",
    "if key == ord(\"q\"): # 문자로 출력하기에 q의 아스키 코드 값인 113을 가져오기 위해 ord 확인\n",
    "    cv2.destroyAllWindows()\n",
    "\n",
    "print(ord(\"q\"))\n"
   ]
  },
  {
   "cell_type": "markdown",
   "metadata": {},
   "source": [
    "### 1-4 이미지 쓰기\n",
    "- 불러온 이미지를 파일로 생성"
   ]
  },
  {
   "cell_type": "code",
   "execution_count": 21,
   "metadata": {},
   "outputs": [
    {
     "data": {
      "text/plain": [
       "True"
      ]
     },
     "execution_count": 21,
     "metadata": {},
     "output_type": "execute_result"
    }
   ],
   "source": [
    "img = cv2.imread(DOG_Path,cv2.IMREAD_GRAYSCALE)\n",
    "cv2.imwrite(\"output/new_dog.jpg\",img)"
   ]
  },
  {
   "cell_type": "code",
   "execution_count": 20,
   "metadata": {},
   "outputs": [
    {
     "name": "stdout",
     "output_type": "stream",
     "text": [
      "[[250 250 250 ... 198 198 198]\n",
      " [250 250 250 ... 198 198 198]\n",
      " [250 250 250 ... 198 198 198]\n",
      " ...\n",
      " [104 103 102 ... 137 133 129]\n",
      " [103 103 102 ... 137 135 133]\n",
      " [103 102 102 ... 138 137 137]]\n"
     ]
    }
   ],
   "source": [
    "img_gray = cv2.imread(DOG_Path,cv2.IMREAD_GRAYSCALE)\n",
    "print(img_gray)\n",
    "cv2.imshow(\"Image Gray\",img_gray)\n",
    "cv2.waitKey(0)\n",
    "cv2.destroyAllWindows()"
   ]
  }
 ],
 "metadata": {
  "kernelspec": {
   "display_name": "opencv-project",
   "language": "python",
   "name": "python3"
  },
  "language_info": {
   "codemirror_mode": {
    "name": "ipython",
    "version": 3
   },
   "file_extension": ".py",
   "mimetype": "text/x-python",
   "name": "python",
   "nbconvert_exporter": "python",
   "pygments_lexer": "ipython3",
   "version": "3.13.0"
  }
 },
 "nbformat": 4,
 "nbformat_minor": 2
}
