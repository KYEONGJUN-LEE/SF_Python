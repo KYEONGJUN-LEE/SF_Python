{
 "cells": [
  {
   "cell_type": "markdown",
   "metadata": {},
   "source": [
    "## 02. 비디오 입출력\n",
    "- 비디오의 재생 : 연속된 이미지를 재생하는 것\n",
    "- 프레임 : 연속된 이미지 중 하나\n",
    "- 비디오를 재생하기 위해서는 프레임을 연속적으로 실행\n"
   ]
  },
  {
   "cell_type": "markdown",
   "metadata": {},
   "source": [
    "### 2-1. 비디오 파일 입출력\n",
    "- cv2.VideoCapture(\"파일 경로\") : 경로의 파일을 불러온다\n",
    "- VideoCapture.isOpened() : 파일이 열렸는지 확인\n",
    "- VideoCapture.read : 파일을 읽어서 frame을 반환\n",
    "    - ret : 프레임이 있는지 체크, frame : 불러온 이미지\n",
    "- VideoCapture.release() : 비디오 파일이나 입력 디바이스 닫기"
   ]
  },
  {
   "cell_type": "code",
   "execution_count": 2,
   "metadata": {},
   "outputs": [],
   "source": [
    "import cv2\n",
    "DOG_VIDEO_PATH = \"videos/dog.mp4\""
   ]
  },
  {
   "cell_type": "code",
   "execution_count": 3,
   "metadata": {},
   "outputs": [],
   "source": [
    "cap = cv2.VideoCapture(DOG_VIDEO_PATH)\n",
    "\n",
    "if not cap.isOpened():\n",
    "    print(\"Error: 비디오를 열 수 없습니다.\")\n",
    "    exit()\n",
    "\n",
    "while cap.isOpened():\n",
    "    ret, frame = cap.read()\n",
    "\n",
    "    if not ret:\n",
    "        print(\"비디오 재생이 끝났습니다.\")\n",
    "        break\n",
    "\n",
    "    resized_frame = cv2.resize(frame, (360, 640))\n",
    "\n",
    "    cv2.imshow(\"Video\", resized_frame)\n",
    "\n",
    "    if cv2.waitKey(1) == ord(\"q\"):\n",
    "        break\n",
    "\n",
    "cap.release()\n",
    "cv2.destroyAllWindows()"
   ]
  },
  {
   "cell_type": "markdown",
   "metadata": {},
   "source": [
    "### 2-2. 영상의 프레임을 불러오기\n",
    "- VideoCapture.get(cv2.CAP_PROP_FPS)"
   ]
  },
  {
   "cell_type": "code",
   "execution_count": 8,
   "metadata": {},
   "outputs": [
    {
     "name": "stdout",
     "output_type": "stream",
     "text": [
      "25.0\n"
     ]
    }
   ],
   "source": [
    "cap = cv2.VideoCapture(DOG_VIDEO_PATH)\n",
    "fps = cap.get(cv2.CAP_PROP_FPS) # 1초당 프레임 개수\n",
    "print(fps)\n",
    "\n",
    "while cap.isOpened():\n",
    "    ret,frame = cap.read()\n",
    "\n",
    "    if not ret:\n",
    "        break\n",
    "    resized_frame = cv2.resize(frame, (360, 640))\n",
    "\n",
    "    cv2.imshow(\"Video\", resized_frame)\n",
    "    \n",
    "    if cv2.waitKey(int(1000/fps)) == ord(\"q\"):\n",
    "        # 1초에 프레임이 몇개가 있는지 프레임 하나당 \n",
    "        break\n",
    "cap.release()\n",
    "cv2.destroyAllWindows()"
   ]
  },
  {
   "cell_type": "markdown",
   "metadata": {},
   "source": [
    "### 2-3. 카메라 입출력"
   ]
  },
  {
   "cell_type": "code",
   "execution_count": 4,
   "metadata": {},
   "outputs": [],
   "source": [
    "cap = cv2.VideoCapture(0)\n",
    "\n",
    "if not cap.isOpened():\n",
    "    print(\"Error: 카메라를 열 수 없습니다.\")\n",
    "    exit()\n",
    "while True:\n",
    "    ret, frame = cap.read()\n",
    "\n",
    "    if not ret:\n",
    "        break\n",
    "    cv2.imshow(\"Camera\",frame)\n",
    "\n",
    "    if cv2.waitKey(1)==ord(\"q\"):\n",
    "        cv2.imwrite(\"output/capture.png\",frame)\n",
    "        break\n",
    "    \n",
    "cap.release()\n",
    "cv2.destroyAllWindows()\n"
   ]
  },
  {
   "cell_type": "markdown",
   "metadata": {},
   "source": [
    "### 2-4. 비디오 쓰기\n",
    "- cv2.VideoWriter(파일경로,fourcc,fps) : 영상을 쓰기 위한 명령어"
   ]
  },
  {
   "cell_type": "code",
   "execution_count": 21,
   "metadata": {},
   "outputs": [],
   "source": [
    "cap= cv2.VideoCapture(DOG_VIDEO_PATH)\n",
    "\n",
    "## VideoWriter 생성\n",
    "fourcc = cv2.VideoWriter_fourcc(*\"DIVX\")\n",
    "fps = cap.get(cv2.CAP_PROP_FPS) # 1초당 프레임 개수\n",
    "width = round(cap.get(cv2.CAP_PROP_FRAME_WIDTH)) # 정수 값을 가져야 함\n",
    "height = round(cap.get(cv2.CAP_PROP_FRAME_HEIGHT)) # 정수 값을 가져야 함\n",
    "out = cv2.VideoWriter(\"output/dog.mp4\",fourcc,fps,(width,height))\n",
    "\n",
    "while cap.isOpened():\n",
    "    ret, frame = cap.read()\n",
    "    \n",
    "    if not ret:\n",
    "        break\n",
    "    resized_frame = cv2.resize(frame, (360, 640))\n",
    "    out.write(resized_frame)\n",
    "    cv2.imshow(\"video\",resized_frame)\n",
    "\n",
    "    if cv2.waitKey(int(1000/fps))==ord('q'):\n",
    "        \n",
    "        break\n",
    "\n",
    "out.release()\n",
    "cap.release()\n",
    "cv2.destroyAllWindows()"
   ]
  },
  {
   "cell_type": "markdown",
   "metadata": {},
   "source": [
    "## 실습 1 특정 입력어를 입력했을때 사진 촬영"
   ]
  },
  {
   "cell_type": "code",
   "execution_count": null,
   "metadata": {},
   "outputs": [],
   "source": [
    "cap = cv2.VideoCapture(0)\n",
    "\n",
    "if not cap.isOpened():\n",
    "    print(\"Error: 카메라를 열 수 없습니다.\")\n",
    "    exit()\n",
    "while True:\n",
    "    ret, frame = cap.read()\n",
    "\n",
    "    if not ret:\n",
    "        break\n",
    "    cv2.imshow(\"Camera\",frame)\n",
    "\n",
    "    if cv2.waitKey(1)==ord(\"q\"): # cv2.waitKey(1)!=-1 어떤 입력이든 주이지면 사진 촬영이 가능\n",
    "        cv2.imwrite(\"output/capture.png\",frame)\n",
    "        break\n",
    "    \n",
    "cap.release()\n",
    "cv2.destroyAllWindows()\n"
   ]
  }
 ],
 "metadata": {
  "kernelspec": {
   "display_name": "opencv-project",
   "language": "python",
   "name": "python3"
  },
  "language_info": {
   "codemirror_mode": {
    "name": "ipython",
    "version": 3
   },
   "file_extension": ".py",
   "mimetype": "text/x-python",
   "name": "python",
   "nbconvert_exporter": "python",
   "pygments_lexer": "ipython3",
   "version": "3.13.0"
  }
 },
 "nbformat": 4,
 "nbformat_minor": 2
}
