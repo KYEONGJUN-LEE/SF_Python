{
 "cells": [
  {
   "cell_type": "markdown",
   "metadata": {},
   "source": [
    "## 03. 도형 그리기"
   ]
  },
  {
   "cell_type": "code",
   "execution_count": 1,
   "metadata": {},
   "outputs": [],
   "source": [
    "import cv2\n",
    "import numpy as np"
   ]
  },
  {
   "cell_type": "markdown",
   "metadata": {},
   "source": [
    "## 3-1 빈 화면 만들기\n",
    "### int : -128 ~ 127 vs unit 0 ~ 255"
   ]
  },
  {
   "cell_type": "code",
   "execution_count": 5,
   "metadata": {},
   "outputs": [],
   "source": [
    "img = np.zeros((460,640,3),dtype=np.uint8)\n",
    "# img[:] =(255,255,255)\n",
    "cv2.imshow(\"blank\",img)\n",
    "cv2.waitKey(0)\n",
    "cv2.destroyAllWindows()"
   ]
  },
  {
   "cell_type": "markdown",
   "metadata": {},
   "source": [
    "## 3-2. 일부 영역 색칠"
   ]
  },
  {
   "cell_type": "code",
   "execution_count": 8,
   "metadata": {},
   "outputs": [],
   "source": [
    "img = np.zeros((460,640,3),dtype=np.uint8)\n",
    "img[100:200,100:200] = (200,252,125) # B, G, R  값을 변경해준다.\n",
    "cv2.imshow(\"blank\",img)\n",
    "cv2.waitKey(0)\n",
    "cv2.destroyAllWindows()"
   ]
  },
  {
   "cell_type": "markdown",
   "metadata": {},
   "source": [
    "## 3-3. 선그리기"
   ]
  },
  {
   "cell_type": "code",
   "execution_count": 12,
   "metadata": {},
   "outputs": [],
   "source": [
    "img = np.zeros((460, 640, 3), dtype=np.uint8)\n",
    "COLOR = (255, 255, 255) # BGR\n",
    "THICKNESS = 3  # 두께\n",
    "\n",
    "cv2.line(img, (50,100), (400,50), COLOR, THICKNESS, cv2.LINE_4)\n",
    "cv2.line(img, (50,200), (400,150), COLOR, THICKNESS, cv2.LINE_8)\n",
    "cv2.line(img, (50,300), (400,250), COLOR, THICKNESS, cv2.LINE_AA)\n",
    "\n",
    "cv2.imshow(\"img\", img)\n",
    "cv2.waitKey(0)\n",
    "cv2.destroyAllWindows()\n"
   ]
  },
  {
   "cell_type": "markdown",
   "metadata": {},
   "source": [
    "## 3-4. 원 그리기"
   ]
  },
  {
   "cell_type": "code",
   "execution_count": 15,
   "metadata": {},
   "outputs": [],
   "source": [
    "img = np.zeros((460,648,3),dtype=np.uint8)\n",
    "\n",
    "RADIUS = 50\n",
    "COLOR = (0,255,255)\n",
    "THICKNESS = 10\n",
    "\n",
    "# 속이 비어있는 원\n",
    "cv2.circle(img,(200,300),RADIUS,COLOR,THICKNESS,cv2.LINE_AA)\n",
    "cv2.circle(img,(400,300),RADIUS,COLOR,cv2.FILLED,cv2.LINE_AA)\n",
    "\n",
    "cv2.imshow(\"Line\",img)\n",
    "cv2.waitKey(0)\n",
    "cv2.destroyAllWindows()\n"
   ]
  },
  {
   "cell_type": "markdown",
   "metadata": {},
   "source": [
    "## 3-5. 타원 그리기"
   ]
  },
  {
   "cell_type": "code",
   "execution_count": 75,
   "metadata": {},
   "outputs": [],
   "source": [
    "img = np.zeros((460,648,3),dtype=np.uint8)\n",
    "cv2.ellipse(img,(300,200),(100,50),45,0,360,(0,0,255),5,cv2.LINE_AA)\n",
    "cv2.imshow(\"ellipse\",img)\n",
    "cv2.waitKey(0)\n",
    "cv2.destroyAllWindows()"
   ]
  },
  {
   "cell_type": "markdown",
   "metadata": {},
   "source": [
    "## 3-6. 사각형 그리기"
   ]
  },
  {
   "cell_type": "code",
   "execution_count": 27,
   "metadata": {},
   "outputs": [],
   "source": [
    "img = np.zeros((460,648,3),dtype=np.uint8)\n",
    "cv2.rectangle(img,(50,50),(250,250),(255,255,0),10, cv2.LINE_AA)\n",
    "cv2.rectangle(img,(200,50),(450,250),(255,255,0),cv2.FILLED, cv2.LINE_AA)\n",
    "cv2.imshow(\"rectangle\",img)\n",
    "cv2.waitKey(0)\n",
    "cv2.destroyAllWindows()"
   ]
  },
  {
   "cell_type": "markdown",
   "metadata": {},
   "source": [
    "## 3-7 다각형 그리기(선)"
   ]
  },
  {
   "cell_type": "code",
   "execution_count": 64,
   "metadata": {},
   "outputs": [],
   "source": [
    "img = np.zeros((460,648,3),dtype=np.uint8)\n",
    "\n",
    "pts = np.array([[100,100],[200,100],[100,200]])\n",
    "\n",
    "cv2.polylines(img,[pts],True,(255,0,255),5)\n",
    "cv2.imshow(\"polylines\",img)\n",
    "cv2.waitKey(0)\n",
    "cv2.destroyAllWindows()"
   ]
  },
  {
   "cell_type": "markdown",
   "metadata": {},
   "source": [
    "## 3-7 다각형 채우기\n",
    "### - fillPoly 다각형 채우는 함수"
   ]
  },
  {
   "cell_type": "code",
   "execution_count": 33,
   "metadata": {},
   "outputs": [],
   "source": [
    "img = np.zeros((460,648,3),dtype=np.uint8)\n",
    "\n",
    "pts = np.array([[100,100],[200,100],[100,200]])\n",
    "\n",
    "cv2.fillPoly(img,[pts],(255,0,255))\n",
    "cv2.imshow(\"polylines\",img)\n",
    "cv2.waitKey(0)\n",
    "cv2.destroyAllWindows()"
   ]
  },
  {
   "cell_type": "markdown",
   "metadata": {},
   "source": [
    "# 실습 1"
   ]
  },
  {
   "cell_type": "code",
   "execution_count": 74,
   "metadata": {},
   "outputs": [],
   "source": [
    "import cv2\n",
    "import numpy as np\n",
    "img = np.zeros((480, 640, 3), dtype=np.uint8)\n",
    "pts = np.array([[100,100],[200,100],[300,200]])\n",
    "pts2 = np.array([[100,100],[200,100],[300,500]])\n",
    "# 선\n",
    "cv2.line(img, (50, 50), (590, 50), (0, 255, 255))\n",
    "# 원\n",
    "cv2.circle(img, (70, 150), 50, (255, 0, 255))\n",
    "#타원\n",
    "cv2.ellipse(img,(200, 250),(100,50),0,0,360,(255, 200, 0))\n",
    "# 사각형\n",
    "cv2.rectangle(img, (110, 350), (200, 400), (255, 255, 0))\n",
    "# 다각형\n",
    "cv2.polylines(img,[pts],True,(255,200,255))\n",
    "cv2.fillPoly(img,[pts2],(155,100,155))\n",
    "cv2.imshow('Shapes', img)\n",
    "\n",
    "cv2.waitKey(0)\n",
    "cv2.destroyAllWindows()\n"
   ]
  }
 ],
 "metadata": {
  "kernelspec": {
   "display_name": "opencv-project",
   "language": "python",
   "name": "python3"
  },
  "language_info": {
   "codemirror_mode": {
    "name": "ipython",
    "version": 3
   },
   "file_extension": ".py",
   "mimetype": "text/x-python",
   "name": "python",
   "nbconvert_exporter": "python",
   "pygments_lexer": "ipython3",
   "version": "3.13.0"
  }
 },
 "nbformat": 4,
 "nbformat_minor": 2
}
