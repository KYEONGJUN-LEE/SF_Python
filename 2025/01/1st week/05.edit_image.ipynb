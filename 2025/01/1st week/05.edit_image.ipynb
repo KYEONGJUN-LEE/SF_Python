{
 "cells": [
  {
   "cell_type": "markdown",
   "metadata": {},
   "source": [
    "## 05. 이미지 조정"
   ]
  },
  {
   "cell_type": "code",
   "execution_count": 6,
   "metadata": {},
   "outputs": [],
   "source": [
    "import cv2\n",
    "import numpy as np"
   ]
  },
  {
   "cell_type": "code",
   "execution_count": 4,
   "metadata": {},
   "outputs": [],
   "source": [
    "DOG_Path = \"images/dog.jpg\"\n",
    "DOG_Path2 = \"images/dog.png\"\n",
    "DOG_VIDEO_PATH = \"videos/dog.mp4\"\n",
    "winter = \"images/winter.jpg\""
   ]
  },
  {
   "cell_type": "markdown",
   "metadata": {},
   "source": [
    "### 5-1. 이미지 복사"
   ]
  },
  {
   "cell_type": "code",
   "execution_count": 5,
   "metadata": {},
   "outputs": [],
   "source": [
    "img = cv2.imread(DOG_Path)\n",
    "shallow_copy = img\n",
    "deep_copy = img.copy()\n",
    "\n",
    "gray = cv2.cvtColor(shallow_copy,cv2.COLOR_BGR2GRAY)\n",
    "\n",
    "cv2.imshow(\"original\",img)\n",
    "cv2.imshow(\"shallow\",gray)\n",
    "\n",
    "cv2.waitKey(0)\n",
    "cv2.destroyAllWindows()"
   ]
  },
  {
   "cell_type": "markdown",
   "metadata": {},
   "source": [
    "### 5-2. 리사이즈"
   ]
  },
  {
   "cell_type": "code",
   "execution_count": 10,
   "metadata": {},
   "outputs": [],
   "source": [
    "img = cv2.imread(DOG_Path)\n",
    "# 고정 크기를 입력해서 조정\n",
    "# dst = cv2.resize(img,(320,213))\n",
    "\n",
    "\n",
    "# 비율로 조정\n",
    "dst = cv2.resize(img,None,fx=1.5,fy=1.5,interpolation=cv2.INTER_CUBIC)\n",
    "\n",
    "\n",
    "cv2.imshow(\"resize\",dst)\n",
    "cv2.waitKey(0)\n",
    "cv2.destroyAllWindows()\n",
    "\n"
   ]
  },
  {
   "cell_type": "markdown",
   "metadata": {},
   "source": [
    "## 실습2. 영상 리사이즈"
   ]
  },
  {
   "cell_type": "code",
   "execution_count": 16,
   "metadata": {},
   "outputs": [
    {
     "name": "stdout",
     "output_type": "stream",
     "text": [
      "25.0\n"
     ]
    }
   ],
   "source": [
    "cap = cv2.VideoCapture(DOG_VIDEO_PATH)\n",
    "fps = cap.get(cv2.CAP_PROP_FPS) # 1초당 프레임 개수\n",
    "print(fps)\n",
    "\n",
    "while cap.isOpened():\n",
    "    ret,frame = cap.read()\n",
    "\n",
    "    if not ret:\n",
    "        break\n",
    "    resized_frame = cv2.resize(frame,None,fx=0.1,fy=0.1,interpolation=cv2.INTER_CUBIC)\n",
    "\n",
    "    cv2.imshow(\"Video\", resized_frame)\n",
    "    \n",
    "    if cv2.waitKey(int(1000/fps)) == ord(\"q\"):  # 1초에 프레임이 몇개가 있는지 프레임 하나당 \n",
    "        break\n",
    "cap.release()\n",
    "cv2.destroyAllWindows()"
   ]
  },
  {
   "cell_type": "code",
   "execution_count": 17,
   "metadata": {},
   "outputs": [],
   "source": [
    "img = cv2.imread(DOG_Path)\n",
    "\n",
    "size_up = cv2.pyrUp(img)\n",
    "size_down = cv2.pyrDown(img)\n",
    "\n",
    "cv2.imshow(\"pyrUp\",size_up)\n",
    "cv2.imshow(\"pyrDown\",size_down)\n",
    "\n",
    "cv2.waitKey(0)\n",
    "cv2.destroyAllWindows()"
   ]
  },
  {
   "cell_type": "markdown",
   "metadata": {},
   "source": [
    "### 5-3 이미지 자르기"
   ]
  },
  {
   "cell_type": "code",
   "execution_count": 18,
   "metadata": {},
   "outputs": [],
   "source": [
    "img = cv2.imread(DOG_Path)\n",
    "\n",
    "cropped = img[100:200,100:400]\n",
    "\n",
    "cv2.imshow(\"Dog\",img)\n",
    "cv2.imshow(\"Dog_cropped\",cropped)\n",
    "cv2.waitKey(0)\n",
    "cv2.destroyAllWindows()"
   ]
  },
  {
   "cell_type": "code",
   "execution_count": 23,
   "metadata": {},
   "outputs": [],
   "source": [
    "img = cv2.imread(DOG_Path)\n",
    "\n",
    "cropped = img[100:200,150:400]\n",
    "img[100:200,150:400] = cropped\n",
    "cv2.imshow(\"Dog\",img)\n",
    "# cv2.imshow(\"Dog_cropped\",cropped)\n",
    "cv2.waitKey(0)\n",
    "cv2.destroyAllWindows()"
   ]
  },
  {
   "cell_type": "markdown",
   "metadata": {},
   "source": [
    "## 5-4. 이미지 대칭\n",
    "- flipcode > 0 : 좌우반전(y축 반전)\n",
    "- flipcode == 0 : 상하 반전(x축 반전)\n",
    "- flipcode < 0 : 상하좌우 반전"
   ]
  },
  {
   "cell_type": "code",
   "execution_count": 31,
   "metadata": {},
   "outputs": [],
   "source": [
    "img = cv2.imread(DOG_Path)\n",
    "dst_1 = cv2.flip(img,-1)\n",
    "dst_2 = cv2.flip(img, 0)\n",
    "dst_3 = cv2.flip(img, 1)\n",
    "cv2.imshow(\"img\",img)\n",
    "cv2.imshow(\"dst_1\",dst_1)\n",
    "cv2.imshow(\"dst_1\",dst_2)\n",
    "cv2.imshow(\"dst_1\",dst_3)\n",
    "cv2.waitKey(0)\n",
    "cv2.destroyAllWindows()"
   ]
  },
  {
   "cell_type": "markdown",
   "metadata": {},
   "source": [
    "### 실습3. 이미지 조정"
   ]
  },
  {
   "cell_type": "code",
   "execution_count": 45,
   "metadata": {},
   "outputs": [],
   "source": [
    "img = cv2.imread(winter)\n",
    "resize_winter = cv2.resize(img,(250,268)) # 줄인 이미지 # 1번\n",
    "dst_1 = cv2.flip(img,1)\n",
    "# cv2.imshow(\"img\",cropped)\n",
    "cv2.imshow(\"img\",resize_winter)\n",
    "cv2.imshow(\"dst_1\",dst_1)\n",
    "cv2.waitKey(0)\n",
    "cv2.destroyAllWindows()"
   ]
  },
  {
   "cell_type": "code",
   "execution_count": 48,
   "metadata": {},
   "outputs": [],
   "source": [
    "import cv2\n",
    "\n",
    "img = cv2.imread(winter)\n",
    "resize_winter = cv2.resize(img, (250, 268)) \n",
    "\n",
    "flipped_resize_winter = cv2.flip(resize_winter, 1)\n",
    "\n",
    "height, width, channel = img.shape\n",
    "\n",
    "start_y = height - flipped_resize_winter.shape[0]\n",
    "start_x = width - flipped_resize_winter.shape[1]\n",
    "\n",
    "img[start_y:, start_x:] = flipped_resize_winter\n",
    "\n",
    "# 결과 출력\n",
    "cv2.imshow(\"Result\", img)\n",
    "cv2.waitKey(0)\n",
    "cv2.destroyAllWindows()\n"
   ]
  },
  {
   "cell_type": "code",
   "execution_count": 61,
   "metadata": {},
   "outputs": [],
   "source": [
    "img = cv2.imread(winter)\n",
    "dst = cv2.pyrDown(img)\n",
    "dst = cv2.flip(dst,1)\n",
    "\n",
    "iheight, iwidth,ichannel = img.shape\n",
    "dheight, dwidth,dchannel = dst.shape\n",
    "\n",
    "img[iheight-dheight:iheight,iwidth-dwidth:iwidth] = dst\n",
    "cv2.imshow(\"Result\", img)\n",
    "cv2.waitKey(0)\n",
    "cv2.destroyAllWindows()"
   ]
  },
  {
   "cell_type": "code",
   "execution_count": 7,
   "metadata": {},
   "outputs": [],
   "source": [
    "img = cv2.imread(winter)\n",
    "blue,green,red = cv2.split(img)\n",
    "cv2.imshow(\"Blue\",blue)\n",
    "cv2.imshow(\"Green\",green)\n",
    "cv2.imshow(\"Red\",red)\n",
    "cv2.waitKey(0)\n",
    "cv2.destroyAllWindows()"
   ]
  },
  {
   "cell_type": "markdown",
   "metadata": {},
   "source": [
    "## 5-4. 이미지 색상 변경"
   ]
  },
  {
   "cell_type": "code",
   "execution_count": 8,
   "metadata": {},
   "outputs": [],
   "source": [
    "img = cv2.imread(winter)\n",
    "gray = cv2.cvtColor(img,cv2.COLOR_BGR2GRAY)\n",
    "rgb = cv2.cvtColor(img,cv2.COLOR_BGR2RGB)\n",
    "\n",
    "cv2.imshow(\"gray\",gray)\n",
    "cv2.imshow(\"rgb\",rgb)\n",
    "\n",
    "cv2.waitKey(0)\n",
    "cv2.destroyAllWindows()"
   ]
  },
  {
   "cell_type": "markdown",
   "metadata": {},
   "source": [
    "## 실습 4"
   ]
  },
  {
   "cell_type": "code",
   "execution_count": 11,
   "metadata": {},
   "outputs": [],
   "source": [
    "img = cv2.imread(winter,cv2.IMREAD_GRAYSCALE)\n",
    "\n",
    "inverted_image = 255 - img \n",
    "\n",
    "cv2.imshow(\"Original Image\", img)\n",
    "cv2.imshow(\"Inverted Image\", inverted_image)\n",
    "cv2.waitKey(0)\n",
    "cv2.destroyAllWindows()\n"
   ]
  },
  {
   "cell_type": "markdown",
   "metadata": {},
   "source": [
    "## 5-5. 이미지 흐리기(가우시안 블러)"
   ]
  },
  {
   "cell_type": "code",
   "execution_count": 15,
   "metadata": {},
   "outputs": [],
   "source": [
    "img = cv2.imread(winter)\n",
    "\n",
    "# 커널을 사용하는 방식\n",
    "# (3,3) (5,5) (7,7) 을 주로 사용\n",
    "kernel_3 = cv2.GaussianBlur(img,(3,3),0)\n",
    "kernel_5 = cv2.GaussianBlur(img,(5,5),0)\n",
    "kernel_7 = cv2.GaussianBlur(img,(7,7),0)\n",
    "\n",
    "cv2.imshow(\"kernel_3\",kernel_3)\n",
    "cv2.imshow(\"kernel_5\",kernel_5)\n",
    "cv2.imshow(\"kernel_7\",kernel_7)\n",
    "cv2.waitKey(0)\n",
    "cv2.destroyAllWindows()\n"
   ]
  },
  {
   "cell_type": "code",
   "execution_count": 16,
   "metadata": {},
   "outputs": [],
   "source": [
    "img = cv2.imread(winter)\n",
    "\n",
    "# 표준편차를 사용하는 방식\n",
    "# (3,3) (5,5) (7,7) 을 주로 사용\n",
    "sigma_1 = cv2.GaussianBlur(img,(0,0),1)\n",
    "sigma_2 = cv2.GaussianBlur(img,(0,0),2)\n",
    "sigma_3 = cv2.GaussianBlur(img,(0,0),3)\n",
    "\n",
    "cv2.imshow(\"sigma_1\",sigma_1)\n",
    "cv2.imshow(\"sigma_2\",sigma_2)\n",
    "cv2.imshow(\"sigma_3\",sigma_3)\n",
    "cv2.waitKey(0)\n",
    "cv2.destroyAllWindows()\n"
   ]
  },
  {
   "cell_type": "markdown",
   "metadata": {},
   "source": [
    "### 5-6. 이미지 회전\n",
    "- cv2.ROTATE_90_CLOCKWISE : 시계방향 90도 회전\n",
    "- cv2.ROTATE_180 : 180도 회전\n",
    "- cv2.ROTATE_90_COUNTERCLOCKWISE : 반시계방향 90도 회전"
   ]
  },
  {
   "cell_type": "code",
   "execution_count": 18,
   "metadata": {},
   "outputs": [],
   "source": [
    "img = cv2.imread(winter)\n",
    "dst_90 = cv2.rotate(img,cv2.ROTATE_90_CLOCKWISE)\n",
    "dst_180 = cv2.rotate(img,cv2.ROTATE_180)\n",
    "dst_90_counter = cv2.rotate(img,cv2.ROTATE_90_COUNTERCLOCKWISE)\n",
    "cv2.imshow(\"90\",dst_90)\n",
    "cv2.imshow(\"180\",dst_180)\n",
    "cv2.imshow(\"90_counter\",dst_90_counter)\n",
    "cv2.waitKey(0)\n",
    "cv2.destroyAllWindows()"
   ]
  },
  {
   "cell_type": "markdown",
   "metadata": {},
   "source": [
    "### Affine 사용"
   ]
  },
  {
   "cell_type": "code",
   "execution_count": 22,
   "metadata": {},
   "outputs": [],
   "source": [
    "img = cv2.imread(winter)\n",
    "center = (img.shape[1]/2,img.shape[0]/2)\n",
    "affine = cv2.getRotationMatrix2D(center,-45, 1)\n",
    "dst = cv2.warpAffine(img,affine,(img.shape[1],img.shape[0]))\n",
    "cv2.imshow(\"Img\",img)\n",
    "cv2.imshow(\"Rotate\",dst)\n",
    "cv2.waitKey(0)\n",
    "cv2.destroyAllWindows()\n"
   ]
  },
  {
   "cell_type": "code",
   "execution_count": null,
   "metadata": {},
   "outputs": [],
   "source": [
    "import cv2\n",
    "import numpy as np\n",
    "import math\n",
    "\n",
    "img = cv2.imread(\"images/dog.jpg\")\n",
    "rad = 20 * math.pi / 180 \n",
    "affine = np.array([[math.cos(rad), -math.sin(rad), 0],[math.sin(rad), math.cos(rad), 0]], dtype=np.float32)\n",
    "dst = cv2.warpAffine(img, affine, (img.shape[1], img.shape[0]))\n",
    "cv2.imshow(\"rotate\", dst)\n",
    "cv2.waitKey(0)\n",
    "cv2.destroyAllWindows()"
   ]
  }
 ],
 "metadata": {
  "kernelspec": {
   "display_name": "opencv-project",
   "language": "python",
   "name": "python3"
  },
  "language_info": {
   "codemirror_mode": {
    "name": "ipython",
    "version": 3
   },
   "file_extension": ".py",
   "mimetype": "text/x-python",
   "name": "python",
   "nbconvert_exporter": "python",
   "pygments_lexer": "ipython3",
   "version": "3.13.0"
  }
 },
 "nbformat": 4,
 "nbformat_minor": 2
}
