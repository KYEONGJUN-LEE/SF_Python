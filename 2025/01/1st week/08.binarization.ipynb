{
 "cells": [
  {
   "cell_type": "markdown",
   "metadata": {},
   "source": [
    "## 08. 이진화\n",
    "- 임계값을 기준으로 색상을 흰색과 검은색으로 나누는 것"
   ]
  },
  {
   "cell_type": "code",
   "execution_count": 20,
   "metadata": {},
   "outputs": [],
   "source": [
    "import cv2\n",
    "import numpy as np\n",
    "\n",
    "BOOK = \"images/book.jpg\"\n",
    "DOG_Path = \"images/dog.jpg\"\n",
    "DOG_Path2 = \"images/dog.png\""
   ]
  },
  {
   "cell_type": "markdown",
   "metadata": {},
   "source": [
    "### 8-1. 기본 이진화\n",
    "- ret, binary = cv2.threshold()\n",
    "- 임계값이 높아지면 검은색 낮아지면 흰색"
   ]
  },
  {
   "cell_type": "code",
   "execution_count": null,
   "metadata": {},
   "outputs": [
    {
     "name": "stdout",
     "output_type": "stream",
     "text": [
      "[[255 255 255 ... 255 255 255]\n",
      " [255 255 255 ... 255 255 255]\n",
      " [255 255 255 ... 255 255 255]\n",
      " ...\n",
      " [  0   0   0 ...   0   0   0]\n",
      " [  0   0   0 ...   0   0   0]\n",
      " [  0   0   0 ...   0   0   0]]\n"
     ]
    }
   ],
   "source": [
    "img = cv2.imread(BOOK,cv2.IMREAD_GRAYSCALE)\n",
    "\n",
    "ret, binary = cv2.threshold(img,127, 255,cv2.THRESH_BINARY) # cv2함수는 이진화의 옵션 \n",
    "\n",
    "cv2.imshow(\"img\",img)\n",
    "cv2.imshow(\"binary\",binary)\n",
    "\n",
    "cv2.waitKey(0)\n",
    "cv2.destroyAllWindows()"
   ]
  },
  {
   "cell_type": "code",
   "execution_count": 17,
   "metadata": {},
   "outputs": [],
   "source": [
    "img = cv2.imread(DOG_Path)\n",
    "name = \"Trackbar\"\n",
    "trackbar_name = \"Rotation\"\n",
    "# 이미지를 출력하기 전에 트랙바가 생성될 window가 먼저 존재해야 함.\n",
    "cv2.namedWindow(name)\n",
    "cv2.createTrackbar(trackbar_name, name, 0, 360, lambda x: x)\n",
    "\n",
    "while True:\n",
    "    angle = cv2.getTrackbarPos(trackbar_name, name) # Trackbar의 값을 가져온다\n",
    "    center = (img.shape[1]/2, img.shape[0]/2)\n",
    "    affine = cv2.getRotationMatrix2D(center, angle, 2)\n",
    "    dst = cv2.warpAffine(img, affine, (img.shape[1], img.shape[0]))\n",
    "    cv2.imshow(name, dst)\n",
    "\n",
    "    if cv2.waitKey(1) == ord(\"q\"):\n",
    "        break\n",
    "\n",
    "cv2.destroyAllWindows()\n"
   ]
  },
  {
   "cell_type": "code",
   "execution_count": 16,
   "metadata": {},
   "outputs": [],
   "source": [
    "import cv2\n",
    "\n",
    "# 콜백 함수 (트랙바가 움직일 때 호출됨)\n",
    "def on_trackbar(val):\n",
    "    # 트랙바에서 가져온 임계값을 사용하여 이진화 수행\n",
    "    _, binary = cv2.threshold(img, val, 255, cv2.THRESH_BINARY)\n",
    "    # 이진화된 이미지를 업데이트하여 표시\n",
    "    cv2.imshow(\"binary\", binary)\n",
    "\n",
    "# 이미지를 그레이스케일로 읽어오기\n",
    "img = cv2.imread(BOOK, cv2.IMREAD_GRAYSCALE)\n",
    "\n",
    "# 윈도우 생성\n",
    "cv2.imshow(\"img\", img)\n",
    "cv2.imshow(\"binary\", img)  # 초기 상태로 원본 이미지 표시\n",
    "\n",
    "# 트랙바 추가\n",
    "cv2.createTrackbar(\"Threshold\", \"binary\", 127, 255, on_trackbar)\n",
    "\n",
    "# 키 입력 대기\n",
    "cv2.waitKey(0)\n",
    "cv2.destroyAllWindows()\n"
   ]
  },
  {
   "cell_type": "markdown",
   "metadata": {},
   "source": [
    "## 실습 2-2 Threshold에 적용"
   ]
  },
  {
   "cell_type": "code",
   "execution_count": 28,
   "metadata": {},
   "outputs": [],
   "source": [
    "import cv2\n",
    "\n",
    "# 이미지를 그레이스케일로 읽어오기 (BOOK 파일 경로 필요)\n",
    "img = cv2.imread(BOOK, cv2.IMREAD_GRAYSCALE)\n",
    "\n",
    "# 윈도우 이름 및 트랙바 이름 설정\n",
    "name = \"binary\"  # 출력 윈도우 이름\n",
    "trackbar_name = \"threshold\"  # 트랙바 이름\n",
    "\n",
    "# 트랙바를 추가하기 위한 윈도우 생성\n",
    "cv2.namedWindow(name)\n",
    "\n",
    "# 트랙바 생성\n",
    "# 트랙바 이름: threshold, 초기값: 127, 최대값: 255, 콜백 함수: on_trackbar\n",
    "cv2.createTrackbar(trackbar_name, name, 127, 255, lambda x: x)\n",
    "\n",
    "# 무한 루프 시작 (트랙바 값을 실시간으로 적용)\n",
    "while True:\n",
    "    # 트랙바에서 현재 임계값을 가져옴\n",
    "    threshold = cv2.getTrackbarPos(trackbar_name, name)\n",
    "    \n",
    "    # 이진화 수행 (현재 임계값 사용)\n",
    "    ret, binary = cv2.threshold(img, threshold, 255, cv2.THRESH_BINARY)\n",
    "    \n",
    "    # 이진화된 이미지 출력\n",
    "    cv2.imshow(name, binary)\n",
    "\n",
    "    # 'q' 키를 누르면 루프 종료\n",
    "    if cv2.waitKey(1) == ord(\"q\"):\n",
    "        break\n",
    "\n",
    "# 모든 윈도우 닫기\n",
    "cv2.destroyAllWindows()\n"
   ]
  },
  {
   "cell_type": "markdown",
   "metadata": {},
   "source": [
    "### 컬러팔레트 만들기"
   ]
  },
  {
   "cell_type": "code",
   "execution_count": 18,
   "metadata": {},
   "outputs": [],
   "source": [
    "import cv2\n",
    "import numpy as np\n",
    "# 윈도우 이름 및 트랙바 이름 설정\n",
    "merge_color = np.zeros((300, 500, 3), dtype=np.uint8) \n",
    "name = \"image\"  # 출력 윈도우 이름\n",
    "RED = \"R\"  # 트랙바 이름\n",
    "GREEN = \"G\"  # 트랙바 이름\n",
    "BLUE = \"B\"  # 트랙바 이름\n",
    "ON_OFF =\"ON_OFF\"\n",
    "\n",
    "# 트랙바를 추가하기 위한 윈도우 생성\n",
    "cv2.namedWindow(name)\n",
    "\n",
    "cv2.createTrackbar(RED, name, 0, 255, lambda x: x)\n",
    "cv2.createTrackbar(GREEN, name, 0, 255, lambda x: x)\n",
    "cv2.createTrackbar(BLUE, name, 0, 255, lambda x: x)\n",
    "cv2.createTrackbar(ON_OFF, name, 0, 1, lambda x: x)\n",
    "\n",
    "while True:\n",
    "    red = cv2.getTrackbarPos(RED, name)\n",
    "    green = cv2.getTrackbarPos(GREEN, name)\n",
    "    blue = cv2.getTrackbarPos(BLUE, name)\n",
    "    onoff = cv2.getTrackbarPos(ON_OFF, name)\n",
    "    \n",
    "    if onoff == 1:\n",
    "        merge_color[:] = [blue,green,red]\n",
    "    else:\n",
    "        merge_color[:] = [0,0,0]\n",
    "\n",
    "    cv2.imshow(name,merge_color)\n",
    "\n",
    "    if cv2.waitKey(1) == ord(\"q\"):\n",
    "        break\n",
    "cv2.destroyAllWindows()\n"
   ]
  },
  {
   "cell_type": "markdown",
   "metadata": {},
   "source": [
    "### 8-2. 적응형 이진화\n",
    "- 블록마다 다른 임계값을 적용\n",
    "- C값이 커지면 임계값이 커져서 밝은 영역이 많아진다."
   ]
  },
  {
   "cell_type": "code",
   "execution_count": 24,
   "metadata": {},
   "outputs": [],
   "source": [
    "img = cv2.imread(BOOK,cv2.IMREAD_GRAYSCALE)\n",
    "name = \"Adaptive\"\n",
    "cv2.namedWindow(name)\n",
    "\n",
    "cv2.createTrackbar(\"block_size\",name,25,100,lambda x:x) # 1보다 큰 홀수만 가능\n",
    "cv2.createTrackbar(\"C\",name,1,10,lambda x:x)\n",
    "\n",
    "while True:\n",
    "    block_size = cv2.getTrackbarPos(\"block_size\",name)\n",
    "    C = cv2.getTrackbarPos(\"C\",name)\n",
    "\n",
    "    if block_size <= 1:\n",
    "        block_size = 3\n",
    "    if block_size%2 == 0:\n",
    "        block_size += 1\n",
    "\n",
    "    binary = cv2.adaptiveThreshold(img,255,cv2.ADAPTIVE_THRESH_MEAN_C,cv2.THRESH_BINARY,block_size,C)\n",
    "\n",
    "    cv2.imshow(name,binary)\n",
    "\n",
    "    if cv2.waitKey(1) == ord(\"q\"):\n",
    "        break\n",
    "cv2.destroyAllWindows()"
   ]
  }
 ],
 "metadata": {
  "kernelspec": {
   "display_name": "opencv-project",
   "language": "python",
   "name": "python3"
  },
  "language_info": {
   "codemirror_mode": {
    "name": "ipython",
    "version": 3
   },
   "file_extension": ".py",
   "mimetype": "text/x-python",
   "name": "python",
   "nbconvert_exporter": "python",
   "pygments_lexer": "ipython3",
   "version": "3.13.0"
  }
 },
 "nbformat": 4,
 "nbformat_minor": 2
}
