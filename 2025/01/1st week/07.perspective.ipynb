{
 "cells": [
  {
   "cell_type": "markdown",
   "metadata": {},
   "source": [
    "## 07. 원근 변환"
   ]
  },
  {
   "cell_type": "code",
   "execution_count": 8,
   "metadata": {},
   "outputs": [],
   "source": [
    "import cv2\n",
    "import numpy as np\n",
    "\n",
    "CARD = \"images/card.jpg\"\n",
    "PISA = \"images/PisaTower.jpg\""
   ]
  },
  {
   "cell_type": "code",
   "execution_count": 7,
   "metadata": {},
   "outputs": [],
   "source": [
    "img=cv2.imread(CARD)\n",
    "\n",
    "width,height = 600,350\n",
    "# 변형할 시점 시계방향\n",
    "src = np.array([[54,261] , [981,128] ,[1213,560], [194,735]],dtype=np.float32)\n",
    "\n",
    "# 결과물 출력할 형태 : 시계\n",
    "dst = np.array([[0,0] , [width,0] ,[width,height], [0,height]],dtype=np.float32)\n",
    "\n",
    "# 원근을 변형하기 위한 matrix 생성\n",
    "mat = cv2.getPerspectiveTransform(src,dst)\n",
    "\n",
    "# img를 mat에 의해 변환\n",
    "\n",
    "result = cv2.warpPerspective(img,mat,(width,height))\n",
    "\n",
    "cv2.imshow(\"img\",img)\n",
    "cv2.imshow(\"result\",result)\n",
    "\n",
    "cv2.waitKey(0)\n",
    "cv2.destroyAllWindows()"
   ]
  },
  {
   "cell_type": "markdown",
   "metadata": {},
   "source": [
    "## 실습 1"
   ]
  },
  {
   "cell_type": "code",
   "execution_count": 13,
   "metadata": {},
   "outputs": [],
   "source": [
    "img=cv2.imread(PISA)\n",
    "\n",
    "width,height = 500,1000\n",
    "# 변형할 시점 시계방향\n",
    "src = np.array([[60,51] , [315,30] ,[371,490], [110,501]],dtype=np.float32)\n",
    "\n",
    "# 결과물 출력할 형태 : 시계\n",
    "dst = np.array([[0,0] , [width,0] ,[width,height], [0,height]],dtype=np.float32)\n",
    "\n",
    "# 원근을 변형하기 위한 matrix 생성\n",
    "mat = cv2.getPerspectiveTransform(src,dst)\n",
    "\n",
    "# img를 mat에 의해 변환\n",
    "\n",
    "result = cv2.warpPerspective(img,mat,(width,height))\n",
    "\n",
    "cv2.imshow(\"img\",img)\n",
    "cv2.imshow(\"result\",result)\n",
    "\n",
    "cv2.waitKey(0)\n",
    "cv2.destroyAllWindows()"
   ]
  }
 ],
 "metadata": {
  "kernelspec": {
   "display_name": "opencv-project",
   "language": "python",
   "name": "python3"
  },
  "language_info": {
   "codemirror_mode": {
    "name": "ipython",
    "version": 3
   },
   "file_extension": ".py",
   "mimetype": "text/x-python",
   "name": "python",
   "nbconvert_exporter": "python",
   "pygments_lexer": "ipython3",
   "version": "3.13.0"
  }
 },
 "nbformat": 4,
 "nbformat_minor": 2
}
