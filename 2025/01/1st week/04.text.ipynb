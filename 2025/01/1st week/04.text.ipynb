{
 "cells": [
  {
   "cell_type": "markdown",
   "metadata": {},
   "source": [
    "## 04. 텍스트\n",
    "- 한글 입력 지원 X"
   ]
  },
  {
   "cell_type": "markdown",
   "metadata": {},
   "source": [
    "### 4-1. 텍스트 기본(영어)"
   ]
  },
  {
   "cell_type": "code",
   "execution_count": 2,
   "metadata": {},
   "outputs": [],
   "source": [
    "import cv2\n",
    "import numpy as np"
   ]
  },
  {
   "cell_type": "code",
   "execution_count": 7,
   "metadata": {},
   "outputs": [],
   "source": [
    "img = np.zeros((460,640,3),dtype=np.uint8)\n",
    "SCALE = 1\n",
    "COLOR = (255,255,255)\n",
    "THICKNESS = 2\n",
    "cv2.putText(img,\"Oh Hae Won\",(100,100),cv2.FONT_HERSHEY_COMPLEX_SMALL,SCALE,COLOR,THICKNESS)\n",
    "cv2.putText(img,\"Seo Jae Won\",(100,200),cv2.FONT_HERSHEY_COMPLEX,SCALE,COLOR,THICKNESS)\n",
    "cv2.putText(img,\"Lee Kyeong June\",(100,300),cv2.FONT_HERSHEY_SCRIPT_COMPLEX,SCALE,COLOR,THICKNESS)\n",
    "cv2.imshow(\"TEXT\",img)\n",
    "cv2.waitKey(0)\n",
    "cv2.destroyAllWindows()"
   ]
  },
  {
   "cell_type": "markdown",
   "metadata": {},
   "source": [
    "### 4-2. 한글 텍스트 입력"
   ]
  },
  {
   "cell_type": "code",
   "execution_count": 8,
   "metadata": {},
   "outputs": [],
   "source": [
    "from PIL import Image,ImageDraw,ImageFont\n",
    "img = np.zeros((460,640,3),dtype=np.uint8)\n",
    "\n",
    "def putKorText(img,text,pos,font_size,font_color):\n",
    "    img_pil = Image.fromarray(img)\n",
    "    draw = ImageDraw.Draw(img_pil)\n",
    "    font = ImageFont.truetype(\"fonts/gulim.ttc\",font_size)\n",
    "    draw.text(pos,text,font = font,fill=font_color)\n",
    "    return np.array(img_pil)\n",
    "text = putKorText(img,\"나이스\",(100,100),30,(255,255,255))\n",
    "cv2.imshow(\"text\",text)\n",
    "cv2.waitKey(0)\n",
    "cv2.destroyAllWindows()\n"
   ]
  }
 ],
 "metadata": {
  "kernelspec": {
   "display_name": "opencv-project",
   "language": "python",
   "name": "python3"
  },
  "language_info": {
   "codemirror_mode": {
    "name": "ipython",
    "version": 3
   },
   "file_extension": ".py",
   "mimetype": "text/x-python",
   "name": "python",
   "nbconvert_exporter": "python",
   "pygments_lexer": "ipython3",
   "version": "3.13.0"
  }
 },
 "nbformat": 4,
 "nbformat_minor": 2
}
