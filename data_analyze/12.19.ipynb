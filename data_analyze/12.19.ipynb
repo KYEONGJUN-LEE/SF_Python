{
 "cells": [
  {
   "cell_type": "markdown",
   "metadata": {},
   "source": [
    "## folium 라이브러리"
   ]
  },
  {
   "cell_type": "code",
   "execution_count": 3,
   "metadata": {},
   "outputs": [],
   "source": [
    "import folium\n",
    "m = folium.Map(location=[37.547631, 126.942463], zoom_start=15)\n",
    "folium.Marker([37.547631, 126.942463],popup='팝업',tooltip ='툴팁',icon=folium.Icon(color='black',icon='fa-solid fa-train subway',prefix='fa-solid')).add_to(m)\n",
    "m.add_child(folium.LatLngPopup())\n",
    "m.add_child(folium.ClickForMarker(popup='click'))\n",
    "#CircleMarker\n",
    "folium.CircleMarker(\n",
    "    [37.547631, 126.942463],\n",
    "    radius=100,  # 원 크기\n",
    "    color='#ff0000',  # 원 윤곽선 색상\n",
    "    fill_color='#00ff00',  # 원 배경 색상\n",
    "    popup='CircleMarker',\n",
    "    tooltip='tooltip'\n",
    ").add_to(m)\n",
    "\n",
    "# Circle\n",
    "folium.Circle(\n",
    "    [37.547631, 126.942463],\n",
    "    radius=100,  # 원 크기\n",
    "    color='#eb9e34', \n",
    "    fill_color='red',\n",
    "    popup='Circle',\n",
    "    tooltip='tooltip'\n",
    ").add_to(m)\n",
    "m"
   ]
  },
  {
   "cell_type": "markdown",
   "metadata": {},
   "source": [
    "## 실습\n"
   ]
  },
  {
   "cell_type": "code",
   "execution_count": null,
   "metadata": {},
   "outputs": [],
   "source": [
    "import pandas as pd\n",
    "import folium\n",
    "\n",
    "# CP949 또는 EUC-KR로 파일 읽기\n",
    "data = pd.read_csv('택시승차대 현황.csv',encoding='CP949')  # 또는 encoding='euc-kr'\n",
    "taxi = data.loc[:, [\"위치명\", \"위도\", \"경도\"]]\n",
    "for index, row in taxi.iterrows():\n",
    "    folium.Marker(\n",
    "        location=[row[\"위도\"], row[\"경도\"]],\n",
    "        tooltip=row[\"위치명\"],\n",
    "        icon=folium.Icon(color='green',icon='fa-solid fa-taxi',prefix='fa-solid')).add_to(map)\n",
    "    folium.Circle(\n",
    "    location=[row[\"위도\"], row[\"경도\"]],\n",
    "    radius=100,  # 원 크기\n",
    "    color='black', \n",
    "    fill_color='skyblue',\n",
    ").add_to(map)"
   ]
  }
 ],
 "metadata": {
  "kernelspec": {
   "display_name": "Python 3",
   "language": "python",
   "name": "python3"
  },
  "language_info": {
   "codemirror_mode": {
    "name": "ipython",
    "version": 3
   },
   "file_extension": ".py",
   "mimetype": "text/x-python",
   "name": "python",
   "nbconvert_exporter": "python",
   "pygments_lexer": "ipython3",
   "version": "3.13.0"
  }
 },
 "nbformat": 4,
 "nbformat_minor": 2
}
